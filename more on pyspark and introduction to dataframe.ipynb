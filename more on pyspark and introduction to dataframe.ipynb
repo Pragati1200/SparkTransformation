{
  "cells": [
    {
      "cell_type": "code",
      "source": [
        "!pip install pyspark"
      ],
      "metadata": {
        "colab": {
          "base_uri": "https://localhost:8080/"
        },
        "id": "OLoKtzoFPZET",
        "outputId": "c56d0503-bfc8-40f1-be90-16fe1246d7b3"
      },
      "execution_count": null,
      "outputs": [
        {
          "output_type": "stream",
          "name": "stdout",
          "text": [
            "Requirement already satisfied: pyspark in /usr/local/lib/python3.11/dist-packages (3.5.4)\n",
            "Requirement already satisfied: py4j==0.10.9.7 in /usr/local/lib/python3.11/dist-packages (from pyspark) (0.10.9.7)\n"
          ]
        }
      ]
    },
    {
      "cell_type": "code",
      "source": [],
      "metadata": {
        "id": "E2hHph16TWZu"
      },
      "execution_count": null,
      "outputs": []
    },
    {
      "cell_type": "code",
      "source": [
        "from pyspark.sql import SparkSession\n",
        "spark = SparkSession.builder\\\n",
        "        .master(\"local\")\\\n",
        "        .appName(\"Colab\")\\\n",
        "        .config('spark.ui.port', '4050')\\\n",
        "        .getOrCreate()"
      ],
      "metadata": {
        "id": "80kpxd5_QHxH"
      },
      "execution_count": null,
      "outputs": []
    },
    {
      "cell_type": "code",
      "source": [
        "from google.colab import drive\n",
        "drive.mount('/content/drive')"
      ],
      "metadata": {
        "colab": {
          "base_uri": "https://localhost:8080/"
        },
        "id": "TEwjnZJb_Xgc",
        "outputId": "32883a7d-ce2c-4730-8e7c-7514fe537b28"
      },
      "execution_count": null,
      "outputs": [
        {
          "output_type": "stream",
          "name": "stdout",
          "text": [
            "Drive already mounted at /content/drive; to attempt to forcibly remount, call drive.mount(\"/content/drive\", force_remount=True).\n"
          ]
        }
      ]
    },
    {
      "cell_type": "code",
      "source": [
        "from pyspark.sql import SparkSession\n",
        "\n",
        "# Initialize Spark session\n",
        "spark = SparkSession.builder.master(\"local\").appName(\"GoogleDriveExample\").getOrCreate()\n"
      ],
      "metadata": {
        "id": "4kzUyYCjXCve"
      },
      "execution_count": null,
      "outputs": []
    },
    {
      "cell_type": "code",
      "source": [
        "# File path from Google Drive\n",
        "file_path = '/content/drive/My Drive/1_practice_datasets/ultimate_datasets/trendytech/orders/orders.csv'\n",
        "\n",
        "# Read CSV file into a Spark DataFrame\n",
        "spark_df = spark.read.csv(file_path, header=True, inferSchema=True)\n",
        "\n",
        "# Show the first few rows of the DataFrame\n",
        "spark_df.show()\n"
      ],
      "metadata": {
        "colab": {
          "base_uri": "https://localhost:8080/"
        },
        "id": "Pyum2u_MXReO",
        "outputId": "2d3170cc-1b59-4080-fad3-7bdc33b9be79"
      },
      "execution_count": null,
      "outputs": [
        {
          "output_type": "stream",
          "name": "stdout",
          "text": [
            "+---+---------------------+-----+---------------+\n",
            "|  1|2013-07-25 00:00:00.0|11599|         CLOSED|\n",
            "+---+---------------------+-----+---------------+\n",
            "|  2|  2013-07-25 00:00:00|  256|PENDING_PAYMENT|\n",
            "|  3|  2013-07-25 00:00:00|12111|       COMPLETE|\n",
            "|  4|  2013-07-25 00:00:00| 8827|         CLOSED|\n",
            "|  5|  2013-07-25 00:00:00|11318|       COMPLETE|\n",
            "|  6|  2013-07-25 00:00:00| 7130|       COMPLETE|\n",
            "|  7|  2013-07-25 00:00:00| 4530|       COMPLETE|\n",
            "|  8|  2013-07-25 00:00:00| 2911|     PROCESSING|\n",
            "|  9|  2013-07-25 00:00:00| 5657|PENDING_PAYMENT|\n",
            "| 10|  2013-07-25 00:00:00| 5648|PENDING_PAYMENT|\n",
            "| 11|  2013-07-25 00:00:00|  918| PAYMENT_REVIEW|\n",
            "| 12|  2013-07-25 00:00:00| 1837|         CLOSED|\n",
            "| 13|  2013-07-25 00:00:00| 9149|PENDING_PAYMENT|\n",
            "| 14|  2013-07-25 00:00:00| 9842|     PROCESSING|\n",
            "| 15|  2013-07-25 00:00:00| 2568|       COMPLETE|\n",
            "| 16|  2013-07-25 00:00:00| 7276|PENDING_PAYMENT|\n",
            "| 17|  2013-07-25 00:00:00| 2667|       COMPLETE|\n",
            "| 18|  2013-07-25 00:00:00| 1205|         CLOSED|\n",
            "| 19|  2013-07-25 00:00:00| 9488|PENDING_PAYMENT|\n",
            "| 20|  2013-07-25 00:00:00| 9198|     PROCESSING|\n",
            "| 21|  2013-07-25 00:00:00| 2711|        PENDING|\n",
            "+---+---------------------+-----+---------------+\n",
            "only showing top 20 rows\n",
            "\n"
          ]
        }
      ]
    },
    {
      "cell_type": "code",
      "source": [
        "import os\n",
        "# Change the path to the specific folder in your Google Drive\n",
        "os.listdir('/content/drive/My Drive/1_practice_datasets/ultimate_datasets/trendytech/orders')\n"
      ],
      "metadata": {
        "colab": {
          "base_uri": "https://localhost:8080/"
        },
        "id": "wpugUEWgAWdB",
        "outputId": "40c4d432-6a01-4e6a-bd4a-9d013b4b75f8"
      },
      "execution_count": null,
      "outputs": [
        {
          "output_type": "execute_result",
          "data": {
            "text/plain": [
              "['orders.csv', 'orders_1gb.csv', 'ordersparquet']"
            ]
          },
          "metadata": {},
          "execution_count": 17
        }
      ]
    },
    {
      "cell_type": "code",
      "source": [
        "import pandas as pd\n",
        "\n",
        "# Load your dataset\n",
        "dataset_path = ''\n",
        "data = pd.read_csv(dataset_path)\n",
        "\n",
        "# Display the first few rows\n",
        "data.head()"
      ],
      "metadata": {
        "colab": {
          "base_uri": "https://localhost:8080/",
          "height": 206
        },
        "id": "iUcsOcoKBqcX",
        "outputId": "4d343ada-f765-4bc2-9bb4-0d1cb226a5f3"
      },
      "execution_count": null,
      "outputs": [
        {
          "output_type": "execute_result",
          "data": {
            "text/plain": [
              "   1  2013-07-25 00:00:00.0  11599           CLOSED\n",
              "0  2  2013-07-25 00:00:00.0    256  PENDING_PAYMENT\n",
              "1  3  2013-07-25 00:00:00.0  12111         COMPLETE\n",
              "2  4  2013-07-25 00:00:00.0   8827           CLOSED\n",
              "3  5  2013-07-25 00:00:00.0  11318         COMPLETE\n",
              "4  6  2013-07-25 00:00:00.0   7130         COMPLETE"
            ],
            "text/html": [
              "\n",
              "  <div id=\"df-d7ab65dd-a338-415c-abf8-c2b897946a59\" class=\"colab-df-container\">\n",
              "    <div>\n",
              "<style scoped>\n",
              "    .dataframe tbody tr th:only-of-type {\n",
              "        vertical-align: middle;\n",
              "    }\n",
              "\n",
              "    .dataframe tbody tr th {\n",
              "        vertical-align: top;\n",
              "    }\n",
              "\n",
              "    .dataframe thead th {\n",
              "        text-align: right;\n",
              "    }\n",
              "</style>\n",
              "<table border=\"1\" class=\"dataframe\">\n",
              "  <thead>\n",
              "    <tr style=\"text-align: right;\">\n",
              "      <th></th>\n",
              "      <th>1</th>\n",
              "      <th>2013-07-25 00:00:00.0</th>\n",
              "      <th>11599</th>\n",
              "      <th>CLOSED</th>\n",
              "    </tr>\n",
              "  </thead>\n",
              "  <tbody>\n",
              "    <tr>\n",
              "      <th>0</th>\n",
              "      <td>2</td>\n",
              "      <td>2013-07-25 00:00:00.0</td>\n",
              "      <td>256</td>\n",
              "      <td>PENDING_PAYMENT</td>\n",
              "    </tr>\n",
              "    <tr>\n",
              "      <th>1</th>\n",
              "      <td>3</td>\n",
              "      <td>2013-07-25 00:00:00.0</td>\n",
              "      <td>12111</td>\n",
              "      <td>COMPLETE</td>\n",
              "    </tr>\n",
              "    <tr>\n",
              "      <th>2</th>\n",
              "      <td>4</td>\n",
              "      <td>2013-07-25 00:00:00.0</td>\n",
              "      <td>8827</td>\n",
              "      <td>CLOSED</td>\n",
              "    </tr>\n",
              "    <tr>\n",
              "      <th>3</th>\n",
              "      <td>5</td>\n",
              "      <td>2013-07-25 00:00:00.0</td>\n",
              "      <td>11318</td>\n",
              "      <td>COMPLETE</td>\n",
              "    </tr>\n",
              "    <tr>\n",
              "      <th>4</th>\n",
              "      <td>6</td>\n",
              "      <td>2013-07-25 00:00:00.0</td>\n",
              "      <td>7130</td>\n",
              "      <td>COMPLETE</td>\n",
              "    </tr>\n",
              "  </tbody>\n",
              "</table>\n",
              "</div>\n",
              "    <div class=\"colab-df-buttons\">\n",
              "\n",
              "  <div class=\"colab-df-container\">\n",
              "    <button class=\"colab-df-convert\" onclick=\"convertToInteractive('df-d7ab65dd-a338-415c-abf8-c2b897946a59')\"\n",
              "            title=\"Convert this dataframe to an interactive table.\"\n",
              "            style=\"display:none;\">\n",
              "\n",
              "  <svg xmlns=\"http://www.w3.org/2000/svg\" height=\"24px\" viewBox=\"0 -960 960 960\">\n",
              "    <path d=\"M120-120v-720h720v720H120Zm60-500h600v-160H180v160Zm220 220h160v-160H400v160Zm0 220h160v-160H400v160ZM180-400h160v-160H180v160Zm440 0h160v-160H620v160ZM180-180h160v-160H180v160Zm440 0h160v-160H620v160Z\"/>\n",
              "  </svg>\n",
              "    </button>\n",
              "\n",
              "  <style>\n",
              "    .colab-df-container {\n",
              "      display:flex;\n",
              "      gap: 12px;\n",
              "    }\n",
              "\n",
              "    .colab-df-convert {\n",
              "      background-color: #E8F0FE;\n",
              "      border: none;\n",
              "      border-radius: 50%;\n",
              "      cursor: pointer;\n",
              "      display: none;\n",
              "      fill: #1967D2;\n",
              "      height: 32px;\n",
              "      padding: 0 0 0 0;\n",
              "      width: 32px;\n",
              "    }\n",
              "\n",
              "    .colab-df-convert:hover {\n",
              "      background-color: #E2EBFA;\n",
              "      box-shadow: 0px 1px 2px rgba(60, 64, 67, 0.3), 0px 1px 3px 1px rgba(60, 64, 67, 0.15);\n",
              "      fill: #174EA6;\n",
              "    }\n",
              "\n",
              "    .colab-df-buttons div {\n",
              "      margin-bottom: 4px;\n",
              "    }\n",
              "\n",
              "    [theme=dark] .colab-df-convert {\n",
              "      background-color: #3B4455;\n",
              "      fill: #D2E3FC;\n",
              "    }\n",
              "\n",
              "    [theme=dark] .colab-df-convert:hover {\n",
              "      background-color: #434B5C;\n",
              "      box-shadow: 0px 1px 3px 1px rgba(0, 0, 0, 0.15);\n",
              "      filter: drop-shadow(0px 1px 2px rgba(0, 0, 0, 0.3));\n",
              "      fill: #FFFFFF;\n",
              "    }\n",
              "  </style>\n",
              "\n",
              "    <script>\n",
              "      const buttonEl =\n",
              "        document.querySelector('#df-d7ab65dd-a338-415c-abf8-c2b897946a59 button.colab-df-convert');\n",
              "      buttonEl.style.display =\n",
              "        google.colab.kernel.accessAllowed ? 'block' : 'none';\n",
              "\n",
              "      async function convertToInteractive(key) {\n",
              "        const element = document.querySelector('#df-d7ab65dd-a338-415c-abf8-c2b897946a59');\n",
              "        const dataTable =\n",
              "          await google.colab.kernel.invokeFunction('convertToInteractive',\n",
              "                                                    [key], {});\n",
              "        if (!dataTable) return;\n",
              "\n",
              "        const docLinkHtml = 'Like what you see? Visit the ' +\n",
              "          '<a target=\"_blank\" href=https://colab.research.google.com/notebooks/data_table.ipynb>data table notebook</a>'\n",
              "          + ' to learn more about interactive tables.';\n",
              "        element.innerHTML = '';\n",
              "        dataTable['output_type'] = 'display_data';\n",
              "        await google.colab.output.renderOutput(dataTable, element);\n",
              "        const docLink = document.createElement('div');\n",
              "        docLink.innerHTML = docLinkHtml;\n",
              "        element.appendChild(docLink);\n",
              "      }\n",
              "    </script>\n",
              "  </div>\n",
              "\n",
              "\n",
              "<div id=\"df-7d830ed3-2c6a-41e5-a23c-4bb84b3747c6\">\n",
              "  <button class=\"colab-df-quickchart\" onclick=\"quickchart('df-7d830ed3-2c6a-41e5-a23c-4bb84b3747c6')\"\n",
              "            title=\"Suggest charts\"\n",
              "            style=\"display:none;\">\n",
              "\n",
              "<svg xmlns=\"http://www.w3.org/2000/svg\" height=\"24px\"viewBox=\"0 0 24 24\"\n",
              "     width=\"24px\">\n",
              "    <g>\n",
              "        <path d=\"M19 3H5c-1.1 0-2 .9-2 2v14c0 1.1.9 2 2 2h14c1.1 0 2-.9 2-2V5c0-1.1-.9-2-2-2zM9 17H7v-7h2v7zm4 0h-2V7h2v10zm4 0h-2v-4h2v4z\"/>\n",
              "    </g>\n",
              "</svg>\n",
              "  </button>\n",
              "\n",
              "<style>\n",
              "  .colab-df-quickchart {\n",
              "      --bg-color: #E8F0FE;\n",
              "      --fill-color: #1967D2;\n",
              "      --hover-bg-color: #E2EBFA;\n",
              "      --hover-fill-color: #174EA6;\n",
              "      --disabled-fill-color: #AAA;\n",
              "      --disabled-bg-color: #DDD;\n",
              "  }\n",
              "\n",
              "  [theme=dark] .colab-df-quickchart {\n",
              "      --bg-color: #3B4455;\n",
              "      --fill-color: #D2E3FC;\n",
              "      --hover-bg-color: #434B5C;\n",
              "      --hover-fill-color: #FFFFFF;\n",
              "      --disabled-bg-color: #3B4455;\n",
              "      --disabled-fill-color: #666;\n",
              "  }\n",
              "\n",
              "  .colab-df-quickchart {\n",
              "    background-color: var(--bg-color);\n",
              "    border: none;\n",
              "    border-radius: 50%;\n",
              "    cursor: pointer;\n",
              "    display: none;\n",
              "    fill: var(--fill-color);\n",
              "    height: 32px;\n",
              "    padding: 0;\n",
              "    width: 32px;\n",
              "  }\n",
              "\n",
              "  .colab-df-quickchart:hover {\n",
              "    background-color: var(--hover-bg-color);\n",
              "    box-shadow: 0 1px 2px rgba(60, 64, 67, 0.3), 0 1px 3px 1px rgba(60, 64, 67, 0.15);\n",
              "    fill: var(--button-hover-fill-color);\n",
              "  }\n",
              "\n",
              "  .colab-df-quickchart-complete:disabled,\n",
              "  .colab-df-quickchart-complete:disabled:hover {\n",
              "    background-color: var(--disabled-bg-color);\n",
              "    fill: var(--disabled-fill-color);\n",
              "    box-shadow: none;\n",
              "  }\n",
              "\n",
              "  .colab-df-spinner {\n",
              "    border: 2px solid var(--fill-color);\n",
              "    border-color: transparent;\n",
              "    border-bottom-color: var(--fill-color);\n",
              "    animation:\n",
              "      spin 1s steps(1) infinite;\n",
              "  }\n",
              "\n",
              "  @keyframes spin {\n",
              "    0% {\n",
              "      border-color: transparent;\n",
              "      border-bottom-color: var(--fill-color);\n",
              "      border-left-color: var(--fill-color);\n",
              "    }\n",
              "    20% {\n",
              "      border-color: transparent;\n",
              "      border-left-color: var(--fill-color);\n",
              "      border-top-color: var(--fill-color);\n",
              "    }\n",
              "    30% {\n",
              "      border-color: transparent;\n",
              "      border-left-color: var(--fill-color);\n",
              "      border-top-color: var(--fill-color);\n",
              "      border-right-color: var(--fill-color);\n",
              "    }\n",
              "    40% {\n",
              "      border-color: transparent;\n",
              "      border-right-color: var(--fill-color);\n",
              "      border-top-color: var(--fill-color);\n",
              "    }\n",
              "    60% {\n",
              "      border-color: transparent;\n",
              "      border-right-color: var(--fill-color);\n",
              "    }\n",
              "    80% {\n",
              "      border-color: transparent;\n",
              "      border-right-color: var(--fill-color);\n",
              "      border-bottom-color: var(--fill-color);\n",
              "    }\n",
              "    90% {\n",
              "      border-color: transparent;\n",
              "      border-bottom-color: var(--fill-color);\n",
              "    }\n",
              "  }\n",
              "</style>\n",
              "\n",
              "  <script>\n",
              "    async function quickchart(key) {\n",
              "      const quickchartButtonEl =\n",
              "        document.querySelector('#' + key + ' button');\n",
              "      quickchartButtonEl.disabled = true;  // To prevent multiple clicks.\n",
              "      quickchartButtonEl.classList.add('colab-df-spinner');\n",
              "      try {\n",
              "        const charts = await google.colab.kernel.invokeFunction(\n",
              "            'suggestCharts', [key], {});\n",
              "      } catch (error) {\n",
              "        console.error('Error during call to suggestCharts:', error);\n",
              "      }\n",
              "      quickchartButtonEl.classList.remove('colab-df-spinner');\n",
              "      quickchartButtonEl.classList.add('colab-df-quickchart-complete');\n",
              "    }\n",
              "    (() => {\n",
              "      let quickchartButtonEl =\n",
              "        document.querySelector('#df-7d830ed3-2c6a-41e5-a23c-4bb84b3747c6 button');\n",
              "      quickchartButtonEl.style.display =\n",
              "        google.colab.kernel.accessAllowed ? 'block' : 'none';\n",
              "    })();\n",
              "  </script>\n",
              "</div>\n",
              "\n",
              "    </div>\n",
              "  </div>\n"
            ],
            "application/vnd.google.colaboratory.intrinsic+json": {
              "type": "dataframe",
              "variable_name": "data"
            }
          },
          "metadata": {},
          "execution_count": 4
        }
      ]
    },
    {
      "cell_type": "code",
      "source": [
        "orders_base=spark.sparkContext.textFile(\"/content/orders_1gb.csv\")"
      ],
      "metadata": {
        "id": "Y9VJjhq5WYny"
      },
      "execution_count": null,
      "outputs": []
    },
    {
      "cell_type": "code",
      "source": [
        "#customers_base=spark.sparkContext.textFile(\"/content/orders_1gb.csv\")"
      ],
      "metadata": {
        "id": "AgoVSK0wYeD4"
      },
      "execution_count": null,
      "outputs": []
    },
    {
      "cell_type": "markdown",
      "source": [],
      "metadata": {
        "id": "wSP7_iOURzjg"
      }
    },
    {
      "cell_type": "code",
      "source": [
        "orders_mapped=orders_base.map(lambda x:(x.split(',')[2],x.split(',')[3]))"
      ],
      "metadata": {
        "id": "2rzM0A5dCrEb"
      },
      "execution_count": null,
      "outputs": []
    },
    {
      "cell_type": "code",
      "source": [
        "orders_mapped.take(15)"
      ],
      "metadata": {
        "colab": {
          "base_uri": "https://localhost:8080/"
        },
        "id": "127aq-lBSuhH",
        "outputId": "6957691c-d5a0-46bf-8fa3-3f6d25776d00"
      },
      "execution_count": null,
      "outputs": [
        {
          "output_type": "execute_result",
          "data": {
            "text/plain": [
              "[('11599', 'CLOSED'),\n",
              " ('256', 'PENDING_PAYMENT'),\n",
              " ('12111', 'COMPLETE'),\n",
              " ('8827', 'CLOSED'),\n",
              " ('11318', 'COMPLETE'),\n",
              " ('7130', 'COMPLETE'),\n",
              " ('4530', 'COMPLETE'),\n",
              " ('2911', 'PROCESSING'),\n",
              " ('5657', 'PENDING_PAYMENT'),\n",
              " ('5648', 'PENDING_PAYMENT'),\n",
              " ('918', 'PAYMENT_REVIEW'),\n",
              " ('1837', 'CLOSED'),\n",
              " ('9149', 'PENDING_PAYMENT'),\n",
              " ('9842', 'PROCESSING'),\n",
              " ('2568', 'COMPLETE')]"
            ]
          },
          "metadata": {},
          "execution_count": 48
        }
      ]
    },
    {
      "cell_type": "code",
      "source": [
        "customers_base=spark.sparkContext.textFile(\"/content/part-00000\")"
      ],
      "metadata": {
        "id": "8GobCTL0SAPh"
      },
      "execution_count": null,
      "outputs": []
    },
    {
      "cell_type": "code",
      "source": [
        "customers_base.take(5)"
      ],
      "metadata": {
        "colab": {
          "base_uri": "https://localhost:8080/"
        },
        "id": "D0g64pXXSAia",
        "outputId": "68ca45f8-beba-4525-da09-cd44d7bcd94b"
      },
      "execution_count": null,
      "outputs": [
        {
          "output_type": "execute_result",
          "data": {
            "text/plain": [
              "['1,Richard,Hernandez,XXXXXXXXX,XXXXXXXXX,6303 Heather Plaza,Brownsville,TX,78521',\n",
              " '2,Mary,Barrett,XXXXXXXXX,XXXXXXXXX,9526 Noble Embers Ridge,Littleton,CO,80126',\n",
              " '3,Ann,Smith,XXXXXXXXX,XXXXXXXXX,3422 Blue Pioneer Bend,Caguas,PR,00725',\n",
              " '4,Mary,Jones,XXXXXXXXX,XXXXXXXXX,8324 Little Common,San Marcos,CA,92069',\n",
              " '5,Robert,Hudson,XXXXXXXXX,XXXXXXXXX,\"10 Crystal River Mall \",Caguas,PR,00725']"
            ]
          },
          "metadata": {},
          "execution_count": 50
        }
      ]
    },
    {
      "cell_type": "code",
      "source": [
        "customers_mapped=customers_base.map(lambda x:(x.split(\",\")[0],x.split(\",\")[8]))"
      ],
      "metadata": {
        "id": "Il6ZLy7sSAl0"
      },
      "execution_count": null,
      "outputs": []
    },
    {
      "cell_type": "code",
      "source": [
        "customers_mapped.take(5)"
      ],
      "metadata": {
        "colab": {
          "base_uri": "https://localhost:8080/"
        },
        "id": "tWjapYnxTJpl",
        "outputId": "34c5027c-c776-44b3-f1d9-a10d07c64c9c"
      },
      "execution_count": null,
      "outputs": [
        {
          "output_type": "execute_result",
          "data": {
            "text/plain": [
              "[('1', '78521'),\n",
              " ('2', '80126'),\n",
              " ('3', '00725'),\n",
              " ('4', '92069'),\n",
              " ('5', '00725')]"
            ]
          },
          "metadata": {},
          "execution_count": 52
        }
      ]
    },
    {
      "cell_type": "code",
      "source": [
        "joined_rdd=customers_mapped.join(orders_mapped)"
      ],
      "metadata": {
        "id": "mf_qDm6FTfET"
      },
      "execution_count": null,
      "outputs": []
    },
    {
      "cell_type": "code",
      "source": [
        "joined_rdd.take(5)"
      ],
      "metadata": {
        "id": "El-VqpfFyZ-5",
        "colab": {
          "base_uri": "https://localhost:8080/"
        },
        "outputId": "1321ae7f-8b70-457e-cdaa-d80872a428fc"
      },
      "execution_count": null,
      "outputs": [
        {
          "output_type": "execute_result",
          "data": {
            "text/plain": [
              "[(('11600', '00725'), 'CLOSED'),\n",
              " (('257', '00791'), 'PENDING_PAYMENT'),\n",
              " (('12112', '00725'), 'COMPLETE'),\n",
              " (('8828', '00725'), 'CLOSED'),\n",
              " (('11319', '00612'), 'COMPLETE')]"
            ]
          },
          "metadata": {},
          "execution_count": 62
        }
      ]
    },
    {
      "cell_type": "code",
      "source": [
        "joined_rdd.saveAsTextFile(\"data/orders_join\")"
      ],
      "metadata": {
        "id": "xKPzjPl1yZ3i"
      },
      "execution_count": null,
      "outputs": []
    },
    {
      "cell_type": "code",
      "source": [
        "customers_broadcast=spark.sparkContext.broadcast(customers_mapped.collect())"
      ],
      "metadata": {
        "id": "bhKQVMGoyZyt"
      },
      "execution_count": null,
      "outputs": []
    },
    {
      "cell_type": "code",
      "source": [
        "def get_pincode(customer_id):\n",
        "  try:\n",
        "    return   customers_broadcast.value[customer_id]\n",
        "  except:\n",
        "    return \"-1\""
      ],
      "metadata": {
        "id": "ZPTTSJJutCTJ"
      },
      "execution_count": null,
      "outputs": []
    },
    {
      "cell_type": "code",
      "source": [
        "joined_rdd=orders_mapped.map(lambda x:(get_pincode(int(x[0])),x[1]))"
      ],
      "metadata": {
        "id": "oWjgnJD6vXYP"
      },
      "execution_count": null,
      "outputs": []
    },
    {
      "cell_type": "code",
      "source": [
        "joined_rdd.saveAsTextFile(\"data/broadcastresults\")"
      ],
      "metadata": {
        "id": "1cPfq_CkwOrJ"
      },
      "execution_count": null,
      "outputs": []
    },
    {
      "cell_type": "code",
      "source": [
        "orders_base=spark.sparkContext.textFile(\"/content/orders_1gb.csv\")"
      ],
      "metadata": {
        "id": "zwPIEpbq0scj"
      },
      "execution_count": null,
      "outputs": []
    },
    {
      "cell_type": "code",
      "source": [
        "orders_base.getNumPartitions()"
      ],
      "metadata": {
        "colab": {
          "base_uri": "https://localhost:8080/"
        },
        "id": "_TgZ-sXP0vI7",
        "outputId": "56bb6ded-2c83-4016-8c20-dbccda9bac1f"
      },
      "execution_count": null,
      "outputs": [
        {
          "output_type": "execute_result",
          "data": {
            "text/plain": [
              "34"
            ]
          },
          "metadata": {},
          "execution_count": 64
        }
      ]
    },
    {
      "cell_type": "code",
      "source": [
        "# to increase or decrease the partition"
      ],
      "metadata": {
        "id": "pdhkXGFb05WB"
      },
      "execution_count": null,
      "outputs": []
    },
    {
      "cell_type": "code",
      "source": [
        "#\"repartition \" can increase or decrease the partition\n",
        "orders_base.repartition(30).getNumPartitions()"
      ],
      "metadata": {
        "colab": {
          "base_uri": "https://localhost:8080/"
        },
        "id": "cCwtIGaf05g5",
        "outputId": "481ac4ef-674b-40fa-a897-149756e07bb3"
      },
      "execution_count": null,
      "outputs": [
        {
          "output_type": "execute_result",
          "data": {
            "text/plain": [
              "30"
            ]
          },
          "metadata": {},
          "execution_count": 68
        }
      ]
    },
    {
      "cell_type": "code",
      "source": [
        "orders_filtered=orders_base.filter(lambda x:x.split(\",\")[3] != 'PENDING_PAYMENT')"
      ],
      "metadata": {
        "id": "FwDzFhhm4VeV"
      },
      "execution_count": null,
      "outputs": []
    },
    {
      "cell_type": "code",
      "source": [
        "orders_mapped=orders_filtered.map(lambda x:(x.split(\",\")[2],1))"
      ],
      "metadata": {
        "id": "DcuM7KwO6VQ0"
      },
      "execution_count": null,
      "outputs": []
    },
    {
      "cell_type": "code",
      "source": [
        "orders_mapped.take(5)"
      ],
      "metadata": {
        "colab": {
          "base_uri": "https://localhost:8080/"
        },
        "id": "L8ddS7J766zU",
        "outputId": "6f04f61e-7da7-4a07-d59d-6aa59a542263"
      },
      "execution_count": null,
      "outputs": [
        {
          "output_type": "execute_result",
          "data": {
            "text/plain": [
              "[('11599', 1), ('12111', 1), ('8827', 1), ('11318', 1), ('7130', 1)]"
            ]
          },
          "metadata": {},
          "execution_count": 77
        }
      ]
    },
    {
      "cell_type": "code",
      "source": [
        "orders_reduce=orders_mapped.reduceByKey(lambda x,y:x+y)"
      ],
      "metadata": {
        "id": "DA9GYOAu7Swa"
      },
      "execution_count": null,
      "outputs": []
    },
    {
      "cell_type": "code",
      "source": [
        "result =orders_reduce.filter(lambda x: int(x[0])<501)"
      ],
      "metadata": {
        "id": "Qe2F5lnF7mkJ"
      },
      "execution_count": null,
      "outputs": []
    },
    {
      "cell_type": "code",
      "source": [
        "result.take(5)"
      ],
      "metadata": {
        "colab": {
          "base_uri": "https://localhost:8080/"
        },
        "id": "uquJQDm0Ke7M",
        "outputId": "c1bdad42-69c9-447c-f993-825aafa5b60f"
      },
      "execution_count": null,
      "outputs": [
        {
          "output_type": "execute_result",
          "data": {
            "text/plain": [
              "[('58', 2625), ('381', 1500), ('51', 3000), ('226', 1500), ('393', 750)]"
            ]
          },
          "metadata": {},
          "execution_count": 81
        }
      ]
    },
    {
      "cell_type": "markdown",
      "source": [
        "**Understanding dataframes**"
      ],
      "metadata": {
        "id": "oYkVmhOLqVXe"
      }
    },
    {
      "cell_type": "code",
      "source": [
        "from pyspark.sql import SparkSession\n",
        "spark = SparkSession.builder\\\n",
        "        .master(\"local\")\\\n",
        "        .appName(\"Colab\")\\\n",
        "        .config('spark.ui.port', '4050')\\\n",
        "        .getOrCreate()"
      ],
      "metadata": {
        "id": "cRPWlYMIqbx8"
      },
      "execution_count": null,
      "outputs": []
    },
    {
      "cell_type": "code",
      "source": [
        "orders_df=spark.read\\\n",
        ".format(\"csv\")\\\n",
        ".option(\"header\",\"true\")\\\n",
        ".option(\"inferSchema\",\"true\")\\\n",
        ".load(\"/content/orders_wh.csv\")"
      ],
      "metadata": {
        "id": "VxXf6i5WqiRS"
      },
      "execution_count": null,
      "outputs": []
    },
    {
      "cell_type": "code",
      "source": [
        "orders_df.show()\n",
        "orders_df.printSchema()"
      ],
      "metadata": {
        "colab": {
          "base_uri": "https://localhost:8080/"
        },
        "id": "EMKLe_earTiC",
        "outputId": "0322c9d3-a673-4aa7-90b6-e1fb70bc98ba"
      },
      "execution_count": null,
      "outputs": [
        {
          "output_type": "stream",
          "name": "stdout",
          "text": [
            "+--------+-------------------+-----------+---------------+\n",
            "|order_id|         order_date|customer_id|   order_status|\n",
            "+--------+-------------------+-----------+---------------+\n",
            "|       1|2013-07-25 00:00:00|      11599|         CLOSED|\n",
            "|       2|2013-07-25 00:00:00|        256|PENDING_PAYMENT|\n",
            "|       3|2013-07-25 00:00:00|      12111|       COMPLETE|\n",
            "|       4|2013-07-25 00:00:00|       8827|         CLOSED|\n",
            "|       5|2013-07-25 00:00:00|      11318|       COMPLETE|\n",
            "|       6|2013-07-25 00:00:00|       7130|       COMPLETE|\n",
            "|       7|2013-07-25 00:00:00|       4530|       COMPLETE|\n",
            "|       8|2013-07-25 00:00:00|       2911|     PROCESSING|\n",
            "|       9|2013-07-25 00:00:00|       5657|PENDING_PAYMENT|\n",
            "|      10|2013-07-25 00:00:00|       5648|PENDING_PAYMENT|\n",
            "|      11|2013-07-25 00:00:00|        918| PAYMENT_REVIEW|\n",
            "|      12|2013-07-25 00:00:00|       1837|         CLOSED|\n",
            "|      13|2013-07-25 00:00:00|       9149|PENDING_PAYMENT|\n",
            "|      14|2013-07-25 00:00:00|       9842|     PROCESSING|\n",
            "|      15|2013-07-25 00:00:00|       2568|       COMPLETE|\n",
            "|      16|2013-07-25 00:00:00|       7276|PENDING_PAYMENT|\n",
            "|      17|2013-07-25 00:00:00|       2667|       COMPLETE|\n",
            "|      18|2013-07-25 00:00:00|       1205|         CLOSED|\n",
            "|      19|2013-07-25 00:00:00|       9488|PENDING_PAYMENT|\n",
            "|      20|2013-07-25 00:00:00|       9198|     PROCESSING|\n",
            "+--------+-------------------+-----------+---------------+\n",
            "only showing top 20 rows\n",
            "\n",
            "root\n",
            " |-- order_id: integer (nullable = true)\n",
            " |-- order_date: timestamp (nullable = true)\n",
            " |-- customer_id: integer (nullable = true)\n",
            " |-- order_status: string (nullable = true)\n",
            "\n"
          ]
        }
      ]
    },
    {
      "cell_type": "code",
      "source": [
        " #to change the name of the schema we can apply the transformation on the dataframe\n",
        "transformed_df1 =orders_df.withColumnRenamed(\"order_status\",\"status\")\n"
      ],
      "metadata": {
        "id": "AcT9ot-HrTlg"
      },
      "execution_count": null,
      "outputs": []
    },
    {
      "cell_type": "code",
      "source": [
        "from pyspark.sql.functions import*"
      ],
      "metadata": {
        "id": "VVIy_uX2xh7G"
      },
      "execution_count": null,
      "outputs": []
    },
    {
      "cell_type": "code",
      "source": [
        "transformed_df2 = transformed_df1.withColumn(\"order_date_new\", to_timestamp(\"order_date\"))\n"
      ],
      "metadata": {
        "id": "xPWDPhpdv5CS"
      },
      "execution_count": null,
      "outputs": []
    },
    {
      "cell_type": "code",
      "source": [
        "orders_df.printSchema()"
      ],
      "metadata": {
        "id": "RqXDhopKz3oB",
        "outputId": "c460c0a0-bcbf-4a28-8576-6e378a1a0361",
        "colab": {
          "base_uri": "https://localhost:8080/"
        }
      },
      "execution_count": null,
      "outputs": [
        {
          "output_type": "stream",
          "name": "stdout",
          "text": [
            "root\n",
            " |-- order_id: integer (nullable = true)\n",
            " |-- order_date: timestamp (nullable = true)\n",
            " |-- customer_id: integer (nullable = true)\n",
            " |-- order_status: string (nullable = true)\n",
            "\n"
          ]
        }
      ]
    },
    {
      "cell_type": "markdown",
      "source": [
        "shortcuts"
      ],
      "metadata": {
        "id": "sisDzBBpz9vl"
      }
    },
    {
      "cell_type": "code",
      "source": [
        "spark.read \\\n",
        ".json(\"/content/orders.json\").show()"
      ],
      "metadata": {
        "colab": {
          "base_uri": "https://localhost:8080/"
        },
        "id": "hEOlBfR4ySlV",
        "outputId": "dcc2c5ab-bc39-41e6-e82e-9b5af67ff1dd"
      },
      "execution_count": null,
      "outputs": [
        {
          "output_type": "stream",
          "name": "stdout",
          "text": [
            "+-----------+--------------------+--------+---------------+\n",
            "|customer_id|          order_date|order_id|   order_status|\n",
            "+-----------+--------------------+--------+---------------+\n",
            "|      11599|2013-07-25 00:00:...|       1|         CLOSED|\n",
            "|        256|2013-07-25 00:00:...|       2|PENDING_PAYMENT|\n",
            "|      12111|2013-07-25 00:00:...|       3|       COMPLETE|\n",
            "|       8827|2013-07-25 00:00:...|       4|         CLOSED|\n",
            "|      11318|2013-07-25 00:00:...|       5|       COMPLETE|\n",
            "|       7130|2013-07-25 00:00:...|       6|       COMPLETE|\n",
            "|       4530|2013-07-25 00:00:...|       7|       COMPLETE|\n",
            "|       2911|2013-07-25 00:00:...|       8|     PROCESSING|\n",
            "|       5657|2013-07-25 00:00:...|       9|PENDING_PAYMENT|\n",
            "|       5648|2013-07-25 00:00:...|      10|PENDING_PAYMENT|\n",
            "|        918|2013-07-25 00:00:...|      11| PAYMENT_REVIEW|\n",
            "|       1837|2013-07-25 00:00:...|      12|         CLOSED|\n",
            "|       9149|2013-07-25 00:00:...|      13|PENDING_PAYMENT|\n",
            "|       9842|2013-07-25 00:00:...|      14|     PROCESSING|\n",
            "|       2568|2013-07-25 00:00:...|      15|       COMPLETE|\n",
            "|       7276|2013-07-25 00:00:...|      16|PENDING_PAYMENT|\n",
            "|       2667|2013-07-25 00:00:...|      17|       COMPLETE|\n",
            "|       1205|2013-07-25 00:00:...|      18|         CLOSED|\n",
            "|       9488|2013-07-25 00:00:...|      19|PENDING_PAYMENT|\n",
            "|       9198|2013-07-25 00:00:...|      20|     PROCESSING|\n",
            "+-----------+--------------------+--------+---------------+\n",
            "only showing top 20 rows\n",
            "\n"
          ]
        }
      ]
    },
    {
      "cell_type": "code",
      "source": [
        "\n"
      ],
      "metadata": {
        "id": "-jbFSKC-ySoF",
        "colab": {
          "base_uri": "https://localhost:8080/",
          "height": 141
        },
        "outputId": "b04d64c8-ace1-453e-c621-5563177626a7"
      },
      "execution_count": 1,
      "outputs": [
        {
          "output_type": "error",
          "ename": "NameError",
          "evalue": "name 'git' is not defined",
          "traceback": [
            "\u001b[0;31m---------------------------------------------------------------------------\u001b[0m",
            "\u001b[0;31mNameError\u001b[0m                                 Traceback (most recent call last)",
            "\u001b[0;32m<ipython-input-1-7407f1d6c5f6>\u001b[0m in \u001b[0;36m<cell line: 0>\u001b[0;34m()\u001b[0m\n\u001b[0;32m----> 1\u001b[0;31m \u001b[0mgit\u001b[0m \u001b[0;34m-\u001b[0m\u001b[0;34m-\u001b[0m\u001b[0mversion\u001b[0m\u001b[0;34m\u001b[0m\u001b[0;34m\u001b[0m\u001b[0m\n\u001b[0m",
            "\u001b[0;31mNameError\u001b[0m: name 'git' is not defined"
          ]
        }
      ]
    },
    {
      "cell_type": "code",
      "source": [],
      "metadata": {
        "id": "Vaa-b5aaySro"
      },
      "execution_count": null,
      "outputs": []
    },
    {
      "cell_type": "code",
      "source": [],
      "metadata": {
        "id": "W4YGEWuYyS6a"
      },
      "execution_count": null,
      "outputs": []
    },
    {
      "cell_type": "code",
      "source": [],
      "metadata": {
        "id": "eCM3AnE-vwrF"
      },
      "execution_count": null,
      "outputs": []
    }
  ],
  "metadata": {
    "colab": {
      "provenance": []
    },
    "kernelspec": {
      "display_name": "Python 3",
      "name": "python3"
    },
    "language_info": {
      "name": "python"
    }
  },
  "nbformat": 4,
  "nbformat_minor": 0
}