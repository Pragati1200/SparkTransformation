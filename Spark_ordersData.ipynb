{
  "cells": [
    {
      "cell_type": "code",
      "source": [
        "!pip install pyspark"
      ],
      "metadata": {
        "colab": {
          "base_uri": "https://localhost:8080/"
        },
        "id": "OLoKtzoFPZET",
        "outputId": "c56d0503-bfc8-40f1-be90-16fe1246d7b3"
      },
      "execution_count": null,
      "outputs": [
        {
          "output_type": "stream",
          "name": "stdout",
          "text": [
            "Requirement already satisfied: pyspark in /usr/local/lib/python3.11/dist-packages (3.5.4)\n",
            "Requirement already satisfied: py4j==0.10.9.7 in /usr/local/lib/python3.11/dist-packages (from pyspark) (0.10.9.7)\n"
          ]
        }
      ]
    },
    {
      "cell_type": "code",
      "source": [
        "from pyspark.sql import SparkSession\n",
        "spark = SparkSession.builder\\\n",
        "        .master(\"local\")\\\n",
        "        .appName(\"Colab\")\\\n",
        "        .config('spark.ui.port', '4050')\\\n",
        "        .getOrCreate()"
      ],
      "metadata": {
        "id": "80kpxd5_QHxH"
      },
      "execution_count": 1,
      "outputs": []
    },
    {
      "cell_type": "code",
      "source": [
        "spark"
      ],
      "metadata": {
        "colab": {
          "base_uri": "https://localhost:8080/",
          "height": 219
        },
        "id": "tWjapYnxTJpl",
        "outputId": "952c7978-5a88-46c2-d329-2f5ec3e7479f"
      },
      "execution_count": null,
      "outputs": [
        {
          "output_type": "execute_result",
          "data": {
            "text/plain": [
              "<pyspark.sql.session.SparkSession at 0x7e6a06f95990>"
            ],
            "text/html": [
              "\n",
              "            <div>\n",
              "                <p><b>SparkSession - in-memory</b></p>\n",
              "                \n",
              "        <div>\n",
              "            <p><b>SparkContext</b></p>\n",
              "\n",
              "            <p><a href=\"http://f5f127d719df:4050\">Spark UI</a></p>\n",
              "\n",
              "            <dl>\n",
              "              <dt>Version</dt>\n",
              "                <dd><code>v3.5.4</code></dd>\n",
              "              <dt>Master</dt>\n",
              "                <dd><code>local</code></dd>\n",
              "              <dt>AppName</dt>\n",
              "                <dd><code>Colab</code></dd>\n",
              "            </dl>\n",
              "        </div>\n",
              "        \n",
              "            </div>\n",
              "        "
            ]
          },
          "metadata": {},
          "execution_count": 4
        }
      ]
    },
    {
      "cell_type": "code",
      "source": [],
      "metadata": {
        "id": "mf_qDm6FTfET"
      },
      "execution_count": null,
      "outputs": []
    },
    {
      "cell_type": "code",
      "source": [
        "df = spark.read.csv('/content/part-00000', header=True)"
      ],
      "metadata": {
        "id": "vDWf2co_S_c9"
      },
      "execution_count": null,
      "outputs": []
    },
    {
      "cell_type": "code",
      "source": [
        "orders_rdd=spark.sparkContext.textFile('/content/part-00000')"
      ],
      "metadata": {
        "id": "Epz9GdquUZWF"
      },
      "execution_count": null,
      "outputs": []
    },
    {
      "cell_type": "code",
      "source": [
        "orders_rdd.take(7)"
      ],
      "metadata": {
        "colab": {
          "base_uri": "https://localhost:8080/"
        },
        "id": "2LCnfeWHVLHJ",
        "outputId": "11a1d7dc-2c67-44ab-f699-f7a30b575800"
      },
      "execution_count": null,
      "outputs": [
        {
          "output_type": "execute_result",
          "data": {
            "text/plain": [
              "['1,2013-07-25 00:00:00.0,11599,CLOSED',\n",
              " '2,2013-07-25 00:00:00.0,256,PENDING_PAYMENT',\n",
              " '3,2013-07-25 00:00:00.0,12111,COMPLETE',\n",
              " '4,2013-07-25 00:00:00.0,8827,CLOSED',\n",
              " '5,2013-07-25 00:00:00.0,11318,COMPLETE',\n",
              " '6,2013-07-25 00:00:00.0,7130,COMPLETE',\n",
              " '7,2013-07-25 00:00:00.0,4530,COMPLETE']"
            ]
          },
          "metadata": {},
          "execution_count": 13
        }
      ]
    },
    {
      "cell_type": "code",
      "source": [],
      "metadata": {
        "id": "Un2pakeVXCu7"
      },
      "execution_count": null,
      "outputs": []
    },
    {
      "cell_type": "code",
      "source": [
        "orders_rdd.take(5)"
      ],
      "metadata": {
        "colab": {
          "base_uri": "https://localhost:8080/"
        },
        "id": "WgkXTCgMVlq5",
        "outputId": "e3bb8b47-fc15-48cb-81df-b82d85f690fb"
      },
      "execution_count": null,
      "outputs": [
        {
          "output_type": "execute_result",
          "data": {
            "text/plain": [
              "['1,2013-07-25 00:00:00.0,11599,CLOSED',\n",
              " '2,2013-07-25 00:00:00.0,256,PENDING_PAYMENT',\n",
              " '3,2013-07-25 00:00:00.0,12111,COMPLETE',\n",
              " '4,2013-07-25 00:00:00.0,8827,CLOSED',\n",
              " '5,2013-07-25 00:00:00.0,11318,COMPLETE']"
            ]
          },
          "metadata": {},
          "execution_count": 8
        }
      ]
    },
    {
      "cell_type": "code",
      "source": [
        "mapped_rdd=orders_rdd.map(lambda x:(x.split(\",\")[3],1))"
      ],
      "metadata": {
        "id": "JnVTJPQQVyVK"
      },
      "execution_count": null,
      "outputs": []
    },
    {
      "cell_type": "code",
      "source": [
        "mapped_rdd.take(10)"
      ],
      "metadata": {
        "colab": {
          "base_uri": "https://localhost:8080/"
        },
        "id": "i2P_TKXOWzoT",
        "outputId": "1b29f95c-a06d-411f-ee47-11bb06eb86fd"
      },
      "execution_count": null,
      "outputs": [
        {
          "output_type": "execute_result",
          "data": {
            "text/plain": [
              "[('CLOSED', 1),\n",
              " ('PENDING_PAYMENT', 1),\n",
              " ('COMPLETE', 1),\n",
              " ('CLOSED', 1),\n",
              " ('COMPLETE', 1),\n",
              " ('COMPLETE', 1),\n",
              " ('COMPLETE', 1),\n",
              " ('PROCESSING', 1),\n",
              " ('PENDING_PAYMENT', 1),\n",
              " ('PENDING_PAYMENT', 1)]"
            ]
          },
          "metadata": {},
          "execution_count": 15
        }
      ]
    },
    {
      "cell_type": "code",
      "source": [
        "reduced_rdd=mapped_rdd.reduceByKey(lambda x,y :x+y)"
      ],
      "metadata": {
        "id": "WeTdGZb2XEDI"
      },
      "execution_count": null,
      "outputs": []
    },
    {
      "cell_type": "code",
      "source": [
        "reduced_rdd.collect()\n",
        "#count the no of order in each status"
      ],
      "metadata": {
        "colab": {
          "base_uri": "https://localhost:8080/"
        },
        "id": "cGKgoFPsZkHi",
        "outputId": "269f0876-6428-419b-8a94-76a86dc32113"
      },
      "execution_count": null,
      "outputs": [
        {
          "output_type": "execute_result",
          "data": {
            "text/plain": [
              "[('CLOSED', 7556),\n",
              " ('PENDING_PAYMENT', 15030),\n",
              " ('COMPLETE', 22899),\n",
              " ('PROCESSING', 8275),\n",
              " ('PAYMENT_REVIEW', 729),\n",
              " ('PENDING', 7610),\n",
              " ('ON_HOLD', 3798),\n",
              " ('CANCELED', 1428),\n",
              " ('SUSPECTED_FRAUD', 1558)]"
            ]
          },
          "metadata": {},
          "execution_count": 30
        }
      ]
    },
    {
      "cell_type": "code",
      "source": [
        "#sorting the no of order can be done by excel also on spark\n",
        "xy=reduced_rdd.sortBy(lambda x: x[0])\n",
        "xy.collect()\n"
      ],
      "metadata": {
        "id": "ScVztRkFZzqj",
        "colab": {
          "base_uri": "https://localhost:8080/"
        },
        "outputId": "3c06ead3-dbb9-42ee-c960-5446ffd2f864"
      },
      "execution_count": null,
      "outputs": [
        {
          "output_type": "execute_result",
          "data": {
            "text/plain": [
              "[('CANCELED', 1428),\n",
              " ('CLOSED', 7556),\n",
              " ('COMPLETE', 22899),\n",
              " ('ON_HOLD', 3798),\n",
              " ('PAYMENT_REVIEW', 729),\n",
              " ('PENDING', 7610),\n",
              " ('PENDING_PAYMENT', 15030),\n",
              " ('PROCESSING', 8275),\n",
              " ('SUSPECTED_FRAUD', 1558)]"
            ]
          },
          "metadata": {},
          "execution_count": 31
        }
      ]
    },
    {
      "cell_type": "code",
      "source": [
        "orders_rdd.take(5)"
      ],
      "metadata": {
        "colab": {
          "base_uri": "https://localhost:8080/"
        },
        "id": "s_DheFy9Jcvd",
        "outputId": "9f181794-40e1-4e6e-e0ad-e7f0aa9b3626"
      },
      "execution_count": null,
      "outputs": [
        {
          "output_type": "execute_result",
          "data": {
            "text/plain": [
              "['1,2013-07-25 00:00:00.0,11599,CLOSED',\n",
              " '2,2013-07-25 00:00:00.0,256,PENDING_PAYMENT',\n",
              " '3,2013-07-25 00:00:00.0,12111,COMPLETE',\n",
              " '4,2013-07-25 00:00:00.0,8827,CLOSED',\n",
              " '5,2013-07-25 00:00:00.0,11318,COMPLETE']"
            ]
          },
          "metadata": {},
          "execution_count": 20
        }
      ]
    },
    {
      "cell_type": "code",
      "source": [
        "customers_mapped=orders_rdd.map(lambda x:(x.split(\",\")[2],1))"
      ],
      "metadata": {
        "id": "9SSiQ8m0OuHg"
      },
      "execution_count": null,
      "outputs": []
    },
    {
      "cell_type": "code",
      "source": [
        "customers_mapped.take(5)"
      ],
      "metadata": {
        "colab": {
          "base_uri": "https://localhost:8080/"
        },
        "id": "R0U3eXOcOuLf",
        "outputId": "11e891de-9cd3-4e9a-c1dc-e1640680f257"
      },
      "execution_count": null,
      "outputs": [
        {
          "output_type": "execute_result",
          "data": {
            "text/plain": [
              "[('11599', 1), ('256', 1), ('12111', 1), ('8827', 1), ('11318', 1)]"
            ]
          },
          "metadata": {},
          "execution_count": 25
        }
      ]
    },
    {
      "cell_type": "code",
      "source": [
        "customers_aggregated=customers_mapped.reduceByKey(lambda x,y:(x+y))"
      ],
      "metadata": {
        "id": "Izrb2o-iQIHc"
      },
      "execution_count": null,
      "outputs": []
    },
    {
      "cell_type": "code",
      "source": [
        "customers_aggregated.sortBy(lambda x:(x[1]),False).take(10)"
      ],
      "metadata": {
        "colab": {
          "base_uri": "https://localhost:8080/"
        },
        "id": "uRkK0LI6QIKW",
        "outputId": "d0dd710f-3eac-44e5-c3a5-cd191f960340"
      },
      "execution_count": null,
      "outputs": [
        {
          "output_type": "execute_result",
          "data": {
            "text/plain": [
              "[('6316', 16),\n",
              " ('12431', 16),\n",
              " ('5897', 16),\n",
              " ('569', 16),\n",
              " ('4320', 15),\n",
              " ('5283', 15),\n",
              " ('12284', 15),\n",
              " ('5654', 15),\n",
              " ('221', 15),\n",
              " ('5624', 15)]"
            ]
          },
          "metadata": {},
          "execution_count": 34
        }
      ]
    },
    {
      "cell_type": "code",
      "source": [
        "dintinct_customers=orders_rdd.map(lambda x: x.split(\",\")[2]).distinct()"
      ],
      "metadata": {
        "id": "PoEy5ZxWQINc"
      },
      "execution_count": null,
      "outputs": []
    },
    {
      "cell_type": "code",
      "source": [],
      "metadata": {
        "id": "RTYwWBPoYVHV"
      },
      "execution_count": null,
      "outputs": []
    },
    {
      "cell_type": "code",
      "source": [
        "dintinct_customers.count()"
      ],
      "metadata": {
        "colab": {
          "base_uri": "https://localhost:8080/"
        },
        "id": "41loyPYUQIQS",
        "outputId": "7560bcfb-a490-41bf-aa61-233d583f79a7"
      },
      "execution_count": null,
      "outputs": [
        {
          "output_type": "execute_result",
          "data": {
            "text/plain": [
              "12405"
            ]
          },
          "metadata": {},
          "execution_count": 44
        }
      ]
    },
    {
      "cell_type": "code",
      "source": [
        "filtered_orders=orders_rdd.filter(lambda x: (x.split(\",\")[3] == 'CLOSED'))"
      ],
      "metadata": {
        "id": "vm9Szr29QISw"
      },
      "execution_count": null,
      "outputs": []
    },
    {
      "cell_type": "code",
      "source": [
        "filtered_orders.take(10)"
      ],
      "metadata": {
        "colab": {
          "base_uri": "https://localhost:8080/"
        },
        "id": "0RAAvCl8QIVV",
        "outputId": "4d022cd6-7f11-4c31-a4c4-05e4d04e5ef7"
      },
      "execution_count": null,
      "outputs": [
        {
          "output_type": "execute_result",
          "data": {
            "text/plain": [
              "['1,2013-07-25 00:00:00.0,11599,CLOSED',\n",
              " '4,2013-07-25 00:00:00.0,8827,CLOSED',\n",
              " '12,2013-07-25 00:00:00.0,1837,CLOSED',\n",
              " '18,2013-07-25 00:00:00.0,1205,CLOSED',\n",
              " '24,2013-07-25 00:00:00.0,11441,CLOSED',\n",
              " '25,2013-07-25 00:00:00.0,9503,CLOSED',\n",
              " '37,2013-07-25 00:00:00.0,5863,CLOSED',\n",
              " '51,2013-07-25 00:00:00.0,12271,CLOSED',\n",
              " '57,2013-07-25 00:00:00.0,7073,CLOSED',\n",
              " '61,2013-07-25 00:00:00.0,4791,CLOSED']"
            ]
          },
          "metadata": {},
          "execution_count": 56
        }
      ]
    },
    {
      "cell_type": "code",
      "source": [
        "filtered_mapped=filtered_orders.map(lambda x:(x.split(\",\")[2],1))"
      ],
      "metadata": {
        "id": "F6CjRE5vi23M"
      },
      "execution_count": null,
      "outputs": []
    },
    {
      "cell_type": "code",
      "source": [
        "filtered_mapped.take(5)"
      ],
      "metadata": {
        "colab": {
          "base_uri": "https://localhost:8080/"
        },
        "id": "gycDXGqZjhiW",
        "outputId": "f8eed8ea-da2b-453d-f1b2-21e151696f2f"
      },
      "execution_count": null,
      "outputs": [
        {
          "output_type": "execute_result",
          "data": {
            "text/plain": [
              "[('11599', 1), ('8827', 1), ('1837', 1), ('1205', 1), ('11441', 1)]"
            ]
          },
          "metadata": {},
          "execution_count": 67
        }
      ]
    },
    {
      "cell_type": "code",
      "source": [
        "filtered_aggregated=filtered_mapped.reduceByKey(lambda x ,y :(x+y))"
      ],
      "metadata": {
        "id": "46RuODnAQIYA"
      },
      "execution_count": null,
      "outputs": []
    },
    {
      "cell_type": "code",
      "source": [
        "filtered_aggregated.sortBy(lambda x:x[1],False).take(10)"
      ],
      "metadata": {
        "colab": {
          "base_uri": "https://localhost:8080/"
        },
        "id": "orHTiRNbQIa1",
        "outputId": "047017a8-c646-4642-bfa4-dc4c48104cb2"
      },
      "execution_count": null,
      "outputs": [
        {
          "output_type": "execute_result",
          "data": {
            "text/plain": [
              "[('1833', 6),\n",
              " ('1363', 5),\n",
              " ('1687', 5),\n",
              " ('5493', 5),\n",
              " ('5011', 4),\n",
              " ('8974', 4),\n",
              " ('2321', 4),\n",
              " ('3736', 4),\n",
              " ('8368', 4),\n",
              " ('9740', 4)]"
            ]
          },
          "metadata": {},
          "execution_count": 73
        }
      ]
    },
    {
      "cell_type": "code",
      "source": [
        "#develope a logic to find the frequency of each word"
      ],
      "metadata": {
        "id": "-ckK7LjXQIdZ"
      },
      "execution_count": null,
      "outputs": []
    },
    {
      "cell_type": "code",
      "source": [
        "words=(\"big\",\"DAta\",\"is\",\"SUPER\",\"INTERESTING\",\"BIG\",\"DATA\",\"IS\",\"a\",\"TRENDING\",\"TECHNOLOGY\")"
      ],
      "metadata": {
        "id": "QVyQhWnOQIgR"
      },
      "execution_count": null,
      "outputs": []
    },
    {
      "cell_type": "code",
      "source": [
        "words_rdd=spark.sparkContext.parallelize(words)\n",
        "#whatever there is local it will create a RDD"
      ],
      "metadata": {
        "id": "ruVweRlwQIi8"
      },
      "execution_count": null,
      "outputs": []
    },
    {
      "cell_type": "code",
      "source": [
        " words_normalized = words_rdd.map(lambda x :x.lower())"
      ],
      "metadata": {
        "id": "bUVeOIX0QIma"
      },
      "execution_count": null,
      "outputs": []
    },
    {
      "cell_type": "code",
      "source": [
        "words_normalized.collect()"
      ],
      "metadata": {
        "colab": {
          "base_uri": "https://localhost:8080/"
        },
        "id": "1x6U3K9SOuPB",
        "outputId": "3d0d10a2-b8f0-45ac-acb6-900f351cfff7"
      },
      "execution_count": null,
      "outputs": [
        {
          "output_type": "execute_result",
          "data": {
            "text/plain": [
              "['big',\n",
              " 'data',\n",
              " 'is',\n",
              " 'super',\n",
              " 'interesting',\n",
              " 'big',\n",
              " 'data',\n",
              " 'is',\n",
              " 'a',\n",
              " 'trending',\n",
              " 'technology']"
            ]
          },
          "metadata": {},
          "execution_count": 83
        }
      ]
    },
    {
      "cell_type": "code",
      "source": [
        "mapped_words=words_normalized.map(lambda x : (x,1))"
      ],
      "metadata": {
        "id": "Q3X6uuwGxoyc"
      },
      "execution_count": null,
      "outputs": []
    },
    {
      "cell_type": "code",
      "source": [
        "mapped_words.take(10)"
      ],
      "metadata": {
        "colab": {
          "base_uri": "https://localhost:8080/"
        },
        "id": "eq-aXeSAyaxy",
        "outputId": "c5394ddd-7f42-4221-86f2-e9e6e2b85029"
      },
      "execution_count": null,
      "outputs": [
        {
          "output_type": "execute_result",
          "data": {
            "text/plain": [
              "[('big', 1),\n",
              " ('data', 1),\n",
              " ('is', 1),\n",
              " ('super', 1),\n",
              " ('interesting', 1),\n",
              " ('big', 1),\n",
              " ('data', 1),\n",
              " ('is', 1),\n",
              " ('a', 1),\n",
              " ('trending', 1)]"
            ]
          },
          "metadata": {},
          "execution_count": 86
        }
      ]
    },
    {
      "cell_type": "code",
      "source": [
        "mapped_aggregated=mapped_words.reduceByKey(lambda x,y:x+y)"
      ],
      "metadata": {
        "id": "2piSEIN3yavV"
      },
      "execution_count": null,
      "outputs": []
    },
    {
      "cell_type": "code",
      "source": [
        "mapped_aggregated.take(10)"
      ],
      "metadata": {
        "colab": {
          "base_uri": "https://localhost:8080/"
        },
        "id": "uv1jQLJryatH",
        "outputId": "732499ff-4cb4-40d6-b179-8ee9299a5b76"
      },
      "execution_count": null,
      "outputs": [
        {
          "output_type": "execute_result",
          "data": {
            "text/plain": [
              "[('big', 2),\n",
              " ('data', 2),\n",
              " ('is', 2),\n",
              " ('super', 1),\n",
              " ('interesting', 1),\n",
              " ('a', 1),\n",
              " ('trending', 1),\n",
              " ('technology', 1)]"
            ]
          },
          "metadata": {},
          "execution_count": 88
        }
      ]
    },
    {
      "cell_type": "code",
      "source": [
        "#we can also chain all the transformation\n",
        "result=spark.sparkContext.parallelize(words)\\\n",
        ".map(lambda x :x.lower())\\\n",
        ".map(lambda x : (x,1))\\\n",
        ".reduceByKey(lambda x,y:x+y)\n"
      ],
      "metadata": {
        "id": "db2JV5RIyaqz"
      },
      "execution_count": null,
      "outputs": []
    },
    {
      "cell_type": "code",
      "source": [
        "result.collect()"
      ],
      "metadata": {
        "colab": {
          "base_uri": "https://localhost:8080/"
        },
        "id": "7XYrOrfByaoZ",
        "outputId": "cb2852e8-6d96-468f-bce6-ced826de493f"
      },
      "execution_count": null,
      "outputs": [
        {
          "output_type": "execute_result",
          "data": {
            "text/plain": [
              "[('big', 2),\n",
              " ('data', 2),\n",
              " ('is', 2),\n",
              " ('super', 1),\n",
              " ('interesting', 1),\n",
              " ('a', 1),\n",
              " ('trending', 1),\n",
              " ('technology', 1)]"
            ]
          },
          "metadata": {},
          "execution_count": 94
        }
      ]
    },
    {
      "cell_type": "code",
      "source": [
        "#Parallelize"
      ],
      "metadata": {
        "id": "4sU00pteyamp"
      },
      "execution_count": null,
      "outputs": []
    },
    {
      "cell_type": "code",
      "source": [
        "words_rdd.getNumPartitions()"
      ],
      "metadata": {
        "colab": {
          "base_uri": "https://localhost:8080/"
        },
        "id": "tNemy3guyakq",
        "outputId": "625d210e-01cd-467b-d7d6-14622846ef9a"
      },
      "execution_count": null,
      "outputs": [
        {
          "output_type": "execute_result",
          "data": {
            "text/plain": [
              "1"
            ]
          },
          "metadata": {},
          "execution_count": 99
        }
      ]
    },
    {
      "cell_type": "code",
      "source": [
        "spark.sparkContext.defaultParallelism"
      ],
      "metadata": {
        "colab": {
          "base_uri": "https://localhost:8080/"
        },
        "id": "824PbAjvyaiH",
        "outputId": "927c283c-77b2-481c-fa6f-4893264d30ed"
      },
      "execution_count": null,
      "outputs": [
        {
          "output_type": "execute_result",
          "data": {
            "text/plain": [
              "1"
            ]
          },
          "metadata": {},
          "execution_count": 100
        }
      ]
    },
    {
      "cell_type": "code",
      "source": [
        "orders_rdd=spark.sparkContext.textFile('/content/part-00000')"
      ],
      "metadata": {
        "id": "Gp1zec0RyagQ"
      },
      "execution_count": null,
      "outputs": []
    },
    {
      "cell_type": "code",
      "source": [
        "spark.sparkContext.defaultMinPartitions"
      ],
      "metadata": {
        "colab": {
          "base_uri": "https://localhost:8080/"
        },
        "id": "x7c6mXZ4yadQ",
        "outputId": "d362cc29-8173-4294-ef82-4c1e8b3da75b"
      },
      "execution_count": 8,
      "outputs": [
        {
          "output_type": "execute_result",
          "data": {
            "text/plain": [
              "1"
            ]
          },
          "metadata": {},
          "execution_count": 8
        }
      ]
    },
    {
      "cell_type": "code",
      "source": [
        "#spark Dag visualization"
      ],
      "metadata": {
        "id": "fd7opwavyaY-"
      },
      "execution_count": null,
      "outputs": []
    },
    {
      "cell_type": "code",
      "source": [
        "my_list=[1,4,6,8,9,12]"
      ],
      "metadata": {
        "id": "lDXLZ5T2yaXb"
      },
      "execution_count": 4,
      "outputs": []
    },
    {
      "cell_type": "code",
      "source": [
        "base_rdd = spark.sparkContext.parallelize(my_list)"
      ],
      "metadata": {
        "id": "W7MeucNPyaUi"
      },
      "execution_count": 5,
      "outputs": []
    },
    {
      "cell_type": "code",
      "source": [
        "base_rdd.reduce(lambda x,y:x+y)"
      ],
      "metadata": {
        "id": "A-L1K0MKyaTJ",
        "colab": {
          "base_uri": "https://localhost:8080/"
        },
        "outputId": "addb7e9a-7b3c-4123-e736-b29b0d8900b5"
      },
      "execution_count": 6,
      "outputs": [
        {
          "output_type": "execute_result",
          "data": {
            "text/plain": [
              "40"
            ]
          },
          "metadata": {},
          "execution_count": 6
        }
      ]
    },
    {
      "cell_type": "code",
      "source": [],
      "metadata": {
        "id": "UenDn-T2yaRN"
      },
      "execution_count": null,
      "outputs": []
    },
    {
      "cell_type": "code",
      "source": [],
      "metadata": {
        "id": "Mf6iNh-SyaO7"
      },
      "execution_count": null,
      "outputs": []
    },
    {
      "cell_type": "code",
      "source": [],
      "metadata": {
        "id": "EfTJ1QXdyaM7"
      },
      "execution_count": null,
      "outputs": []
    },
    {
      "cell_type": "code",
      "source": [],
      "metadata": {
        "id": "oQEO8gV9yaLA"
      },
      "execution_count": null,
      "outputs": []
    },
    {
      "cell_type": "code",
      "source": [],
      "metadata": {
        "id": "2dHUo7CnyaJM"
      },
      "execution_count": null,
      "outputs": []
    },
    {
      "cell_type": "code",
      "source": [],
      "metadata": {
        "id": "Qfu4Qy74yaHR"
      },
      "execution_count": null,
      "outputs": []
    },
    {
      "cell_type": "code",
      "source": [],
      "metadata": {
        "id": "l7XHpO_XyaE0"
      },
      "execution_count": null,
      "outputs": []
    },
    {
      "cell_type": "code",
      "source": [],
      "metadata": {
        "id": "Phn_swiPyaCb"
      },
      "execution_count": null,
      "outputs": []
    },
    {
      "cell_type": "code",
      "source": [],
      "metadata": {
        "id": "El-VqpfFyZ-5"
      },
      "execution_count": null,
      "outputs": []
    },
    {
      "cell_type": "code",
      "source": [],
      "metadata": {
        "id": "xKPzjPl1yZ3i"
      },
      "execution_count": null,
      "outputs": []
    },
    {
      "cell_type": "code",
      "source": [],
      "metadata": {
        "id": "bhKQVMGoyZyt"
      },
      "execution_count": null,
      "outputs": []
    }
  ],
  "metadata": {
    "colab": {
      "provenance": []
    },
    "kernelspec": {
      "display_name": "Python 3",
      "name": "python3"
    },
    "language_info": {
      "name": "python"
    }
  },
  "nbformat": 4,
  "nbformat_minor": 0
}